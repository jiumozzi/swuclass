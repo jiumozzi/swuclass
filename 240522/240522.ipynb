{
 "cells": [
  {
   "cell_type": "markdown",
   "metadata": {},
   "source": [
    "NCBI에서 genbank 파일 받기"
   ]
  },
  {
   "cell_type": "markdown",
   "metadata": {},
   "source": [
    "> Entrez 모듈은 NCBI의 정보를 가져오는 모듈  \n",
    "> Entrez 모듈의 efetch() 메서드를 사용하여 NC_045512의 genbank 데이터를 가져오기"
   ]
  },
  {
   "cell_type": "code",
   "execution_count": 4,
   "metadata": {},
   "outputs": [],
   "source": [
    "from Bio import Entrez\n",
    "\n",
    "Entrez.email = \"jiu3976@swu.ac.kr\"\n",
    "handle = Entrez.efetch(\n",
    "    db=\"nucleotide\", \n",
    "    rettype=\"gb\", \n",
    "    id=\"NC_045512\", \n",
    "    retmode=\"text\"\n",
    ")\n",
    "\n",
    "result_filepath=\"result.gb\"\n",
    "with open(result_filepath, \"w\") as fw:\n",
    "    for line in handle:\n",
    "        fw.write(line)"
   ]
  },
  {
   "cell_type": "code",
   "execution_count": 9,
   "metadata": {},
   "outputs": [
    {
     "name": "stdout",
     "output_type": "stream",
     "text": [
      "['_AnnotationsDict', '_AnnotationsDictValue', '__add__', '__annotations__', '__bool__', '__bytes__', '__class__', '__contains__', '__delattr__', '__dict__', '__dir__', '__doc__', '__eq__', '__format__', '__ge__', '__getattribute__', '__getitem__', '__getstate__', '__gt__', '__hash__', '__init__', '__init_subclass__', '__iter__', '__le__', '__len__', '__lt__', '__module__', '__ne__', '__new__', '__radd__', '__reduce__', '__reduce_ex__', '__repr__', '__setattr__', '__sizeof__', '__str__', '__subclasshook__', '__weakref__', '_per_letter_annotations', '_seq', '_set_per_letter_annotations', '_set_seq', 'annotations', 'count', 'dbxrefs', 'description', 'features', 'format', 'id', 'islower', 'isupper', 'letter_annotations', 'lower', 'name', 'reverse_complement', 'seq', 'translate', 'upper']\n",
      "NC_045512.2\n",
      "Severe acute respiratory syndrome coronavirus 2 isolate Wuhan-Hu-1, complete genome\n"
     ]
    }
   ],
   "source": [
    "from Bio import SeqIO\n",
    "\n",
    "\n",
    "record =SeqIO.read(\"result.gb\", \"genbank\")\n",
    "\n",
    "# print(record)\n",
    "print(dir(record))\n",
    "print(record.id)\n",
    "print(record.description)"
   ]
  },
  {
   "cell_type": "markdown",
   "metadata": {},
   "source": [
    "여러 개의 ncbi id의 다운로드 자동화 프로그래밍 짜기\n",
    "> NC_002549, NC_001802, NC_007795"
   ]
  },
  {
   "cell_type": "code",
   "execution_count": 14,
   "metadata": {},
   "outputs": [
    {
     "name": "stdout",
     "output_type": "stream",
     "text": [
      "#DONE: NC_002549.gb\n",
      "#DONE: NC_001802.gb\n",
      "#DONE: NC_007795.gb\n"
     ]
    }
   ],
   "source": [
    "from Bio import Entrez\n",
    "\n",
    "def make_ncbi_id_list(file):\n",
    "    ncbi_id_list = list()\n",
    "    with open(file) as handle:\n",
    "        for line in handle:\n",
    "            ncbi_id_list.append(line.strip())\n",
    "    return ncbi_id_list\n",
    "#read file 함수\n",
    "\n",
    "def genbank_downloader(ncbi_id):\n",
    "    Entrez.email = \"jiu3976@swu.ac.kr\"\n",
    "    handle = Entrez.efetch(db=\"nucleotide\", rettype=\"gb\", id=ncbi_id, retmode=\"text\")\n",
    "    write_filepath = f\"{ncbi_id}.gb\"\n",
    "    with open(write_filepath, \"w\") as fw:\n",
    "        for line in handle:\n",
    "            fw.write(line)\n",
    "    print(f\"#DONE: {write_filepath}\")\n",
    "#ncbi genbank data download 함수\n",
    "\n",
    "def main(filepath):\n",
    "    ncbi_id_list = make_ncbi_id_list(filepath)\n",
    "    for ncbi_id in ncbi_id_list:\n",
    "        genbank_downloader(ncbi_id)\n",
    "#두 함수 실행시키는 함수\n",
    "\n",
    "\n",
    "main(\"ncbi_id_list.txt\")\n",
    "\n"
   ]
  },
  {
   "cell_type": "markdown",
   "metadata": {},
   "source": [
    ">main 함수는 ncbi_filepath를 인자로 받고,  \n",
    ">make_ncbi_id_list 함수를 호출하여 리스트 변수 ncbi_ids에 저장  \n",
    ">ncbi_ids는 for loop 을 돌면서 genbank_downloader 함수를 호출하여 ncbi_ids에 들어있는 ncbi_id 들에 대해 genbank 파일을 저장하도록 한다.\n"
   ]
  },
  {
   "cell_type": "markdown",
   "metadata": {},
   "source": [
    "다운로드 받은 GenBank 데이터 확인\n",
    ">각각의 파일에서 해당하는 아래 정보를 파싱하여 출력하는 프로그램을 만들어 봅시다.  \n",
    ">(id, sequence_length, description, molecule_type, organism)\n"
   ]
  },
  {
   "cell_type": "code",
   "execution_count": 19,
   "metadata": {},
   "outputs": [
    {
     "name": "stdout",
     "output_type": "stream",
     "text": [
      "NC_002549.1\n",
      "18959\n",
      "Zaire ebolavirus isolate Ebola virus/H.sapiens-tc/COD/1976/Yambuku-Mayinga, complete genome\n",
      "cRNA\n",
      "Zaire ebolavirus\n",
      "\n",
      "NC_001802.1\n",
      "9181\n",
      "Human immunodeficiency virus 1, complete genome\n",
      "ss-RNA\n",
      "Human immunodeficiency virus 1\n",
      "\n",
      "NC_007795.1\n",
      "2821361\n",
      "Staphylococcus aureus subsp. aureus NCTC 8325 chromosome, complete genome\n",
      "DNA\n",
      "Staphylococcus aureus subsp. aureus NCTC 8325\n",
      "\n"
     ]
    }
   ],
   "source": [
    "from Bio import SeqIO\n",
    "\n",
    "def make_ncbi_id_list(file):\n",
    "    ncbi_id_list = list()\n",
    "    with open(file) as handle:\n",
    "        for line in handle:\n",
    "            ncbi_id_list.append(line.strip())\n",
    "    return ncbi_id_list\n",
    "\n",
    "\n",
    "def read_genbank_file(genbank_filepath):\n",
    "    record = SeqIO.read(genbank_filepath, \"genbank\")\n",
    "    print(record.id)\n",
    "    print(len(record.seq))\n",
    "    print(record.description)\n",
    "    print(record.annotations[\"molecule_type\"])\n",
    "    print(record.annotations[\"organism\"])\n",
    "    print(\"\")\n",
    "\n",
    "\n",
    "def main(file):\n",
    "    ncbi_id_list = make_ncbi_id_list(file)\n",
    "    for ncbi_id in ncbi_id_list:\n",
    "        read_genbank_file(ncbi_id+\".gb\")\n",
    "\n",
    "main(\"ncbi_id_list.txt\")"
   ]
  },
  {
   "cell_type": "markdown",
   "metadata": {},
   "source": [
    "make_ncbi_id_list 함수는 ncbi_filepath를 인자로 받아 리스트 변수 ncbi_ids를 반환한다.  \n",
    "read_genbank_file은 genbank_filepath를 인자로 받아 위의 다섯 개 항목들을 출력하도록 한다.  \n",
    "main 함수에서 make_ncbi_id_list, read_genbank_file을 호출하도록 한다.\n"
   ]
  }
 ],
 "metadata": {
  "kernelspec": {
   "display_name": "base",
   "language": "python",
   "name": "python3"
  },
  "language_info": {
   "codemirror_mode": {
    "name": "ipython",
    "version": 3
   },
   "file_extension": ".py",
   "mimetype": "text/x-python",
   "name": "python",
   "nbconvert_exporter": "python",
   "pygments_lexer": "ipython3",
   "version": "3.11.7"
  }
 },
 "nbformat": 4,
 "nbformat_minor": 2
}
