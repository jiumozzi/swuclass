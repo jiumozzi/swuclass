{
  "nbformat": 4,
  "nbformat_minor": 0,
  "metadata": {
    "colab": {
      "provenance": []
    },
    "kernelspec": {
      "name": "python3",
      "display_name": "Python 3"
    },
    "language_info": {
      "name": "python"
    }
  },
  "cells": [
    {
      "cell_type": "code",
      "source": [
        "# print 와 f string\n",
        "\n",
        "# print는 기본적으로 엔터 제공됨"
      ],
      "metadata": {
        "id": "FkfbExV_imZZ"
      },
      "execution_count": 87,
      "outputs": []
    },
    {
      "cell_type": "code",
      "execution_count": 1,
      "metadata": {
        "colab": {
          "base_uri": "https://localhost:8080/"
        },
        "id": "u4c6Gv40TAUZ",
        "outputId": "ca546a6c-2af3-469e-c863-d22c092fcd32"
      },
      "outputs": [
        {
          "output_type": "stream",
          "name": "stdout",
          "text": [
            "Hello\n"
          ]
        }
      ],
      "source": [
        "print(\"Hello\")"
      ]
    },
    {
      "cell_type": "code",
      "source": [
        "name=\"ken\"\n",
        "print(name)\n",
        "print(\"hello\", name)\n",
        "print(\"hello\"+name)  # 공백 안들어감\n",
        "print(f\"hello {name}\")  # f string: 여러 + 를 쓰지 않아도 됨   ##주석 처리는 ctrl + /"
      ],
      "metadata": {
        "colab": {
          "base_uri": "https://localhost:8080/"
        },
        "id": "UxpTzSCcTe-k",
        "outputId": "d3b5c76f-90b0-4c82-b978-e76e075678fa"
      },
      "execution_count": 8,
      "outputs": [
        {
          "output_type": "stream",
          "name": "stdout",
          "text": [
            "ken\n",
            "hello ken\n",
            "helloken\n",
            "hello ken\n"
          ]
        }
      ]
    },
    {
      "cell_type": "code",
      "source": [
        "width = 4\n",
        "height = 5\n",
        "print(width *height)\n",
        "print(f\"{width} x {height} = {width * height}\")\n",
        "# f string에서 {}는 값을 불러오는 역할\n",
        "## {} 안쓰면 그냥 text"
      ],
      "metadata": {
        "colab": {
          "base_uri": "https://localhost:8080/"
        },
        "id": "K6qzlAlLT0Hk",
        "outputId": "dbe62602-558c-4ccc-8fac-f02c240a8349"
      },
      "execution_count": 12,
      "outputs": [
        {
          "output_type": "stream",
          "name": "stdout",
          "text": [
            "20\n",
            "4 x 5 = 20\n"
          ]
        }
      ]
    },
    {
      "cell_type": "code",
      "source": [
        "# +, -, *, /, **(제곱), %(나머지), //(몫)\n",
        "num1 = 3\n",
        "num2 = 5\n",
        "\n",
        "print(num1 + num2)\n",
        "print(num1 - num2)\n",
        "print(num1 * num2)\n",
        "print(num1 / num2)\n",
        "print(num1 ** num2)\n",
        "print(num1 % num2)\n",
        "print(num1 // num2)"
      ],
      "metadata": {
        "colab": {
          "base_uri": "https://localhost:8080/"
        },
        "id": "xasYfTRyUTU4",
        "outputId": "9db1bf06-d30e-4202-8bfe-c3c43469fe33"
      },
      "execution_count": 15,
      "outputs": [
        {
          "output_type": "stream",
          "name": "stdout",
          "text": [
            "8\n",
            "-2\n",
            "15\n",
            "0.6\n",
            "243\n",
            "3\n",
            "0\n"
          ]
        }
      ]
    },
    {
      "cell_type": "code",
      "source": [
        "# if문"
      ],
      "metadata": {
        "id": "xUPIpN_KiqjP"
      },
      "execution_count": 70,
      "outputs": []
    },
    {
      "cell_type": "code",
      "source": [
        "# if 조건물 :\n",
        "#   // do something\n",
        "# else:\n",
        "#   // do something else\n",
        "\n",
        "\n",
        "num1 = 3\n",
        "if num1 % 2 == 0:\n",
        "  print(f\"{num1} 은 짝수\")\n",
        "else:\n",
        "  print(f\"{num1} 은 홀수\")"
      ],
      "metadata": {
        "colab": {
          "base_uri": "https://localhost:8080/"
        },
        "id": "cqV94vL1VUnU",
        "outputId": "ce86b8b4-ce80-4075-d362-f53f76579c80"
      },
      "execution_count": 22,
      "outputs": [
        {
          "output_type": "stream",
          "name": "stdout",
          "text": [
            "3 은 홀수\n"
          ]
        }
      ]
    },
    {
      "cell_type": "code",
      "source": [
        "# if 조건물 :\n",
        "#   // do something\n",
        "# elif 조건문2:\n",
        "#   // do something\n",
        "# elif 조건문3:\n",
        "#   // do something\n",
        "# else:\n",
        "#   // do something else\n",
        "## 조건문의 순서가 중요\n",
        "## 상위 조건문 만족하면 아래 조건문으로 안내려감\n",
        "\n",
        "\n",
        "num1 = 21\n",
        "\n",
        "if num1 % 3 == 0 and num1 % 7 == 0:\n",
        "  print(\"3 그리고 7의 배수\")\n",
        "elif num1 % 3 == 0:\n",
        "  print(\"3의 배수\")\n",
        "elif num1 % 7 == 0 :\n",
        "  print(\"7의 배수\")\n",
        "else:\n",
        "  print(\"3 또는 7의 배수가 아님\")"
      ],
      "metadata": {
        "colab": {
          "base_uri": "https://localhost:8080/"
        },
        "id": "NK9r8ZDnWVai",
        "outputId": "dd6e04d5-8321-4d25-c8c7-ba424baff958"
      },
      "execution_count": 27,
      "outputs": [
        {
          "output_type": "stream",
          "name": "stdout",
          "text": [
            "3 그리고 7의 배수\n"
          ]
        }
      ]
    },
    {
      "cell_type": "code",
      "source": [
        "# range 와 for문 (list)"
      ],
      "metadata": {
        "id": "8KelCWJzit6E"
      },
      "execution_count": 76,
      "outputs": []
    },
    {
      "cell_type": "code",
      "source": [
        "# range(시작=0, 끝(미만), 스텝=1)\n",
        "# for i in range(11):\n",
        "## print(i)\n",
        "### 1~10 출력됨\n",
        "\n",
        "\n",
        "result = 0\n",
        "for i in range(1,11):\n",
        "  result += i  # result = result + i\n",
        "\n",
        "print(result)"
      ],
      "metadata": {
        "colab": {
          "base_uri": "https://localhost:8080/"
        },
        "id": "Qwg4zmcTX2Ia",
        "outputId": "f45eb829-db17-4beb-ec33-55d7bd91c300"
      },
      "execution_count": 43,
      "outputs": [
        {
          "output_type": "stream",
          "name": "stdout",
          "text": [
            "55\n"
          ]
        }
      ]
    },
    {
      "cell_type": "code",
      "source": [
        "result = 1\n",
        "for i in range(5,1, -1):\n",
        "  result *= i\n",
        "\n",
        "print(result)"
      ],
      "metadata": {
        "colab": {
          "base_uri": "https://localhost:8080/"
        },
        "id": "4jRqBh2yYdqe",
        "outputId": "897ca630-67b3-4b69-aec2-b60c81177b08"
      },
      "execution_count": 34,
      "outputs": [
        {
          "output_type": "stream",
          "name": "stdout",
          "text": [
            "120\n"
          ]
        }
      ]
    },
    {
      "cell_type": "code",
      "source": [
        "print(range(11))\n",
        "print(range(5, 0, -1))\n",
        "print(list(range(11)))\n",
        "print(list(range(5, 0, -1)))"
      ],
      "metadata": {
        "colab": {
          "base_uri": "https://localhost:8080/"
        },
        "id": "6WEepeaQZVS9",
        "outputId": "f418ba43-3ea1-48c9-abdf-2c9777104a09"
      },
      "execution_count": 41,
      "outputs": [
        {
          "output_type": "stream",
          "name": "stdout",
          "text": [
            "range(0, 11)\n",
            "range(5, 0, -1)\n",
            "[0, 1, 2, 3, 4, 5, 6, 7, 8, 9, 10]\n",
            "[5, 4, 3, 2, 1]\n"
          ]
        }
      ]
    },
    {
      "cell_type": "code",
      "source": [
        "# 1, 3, 5, 7, 9\n",
        "print(list(range(1, 10, 2)))"
      ],
      "metadata": {
        "colab": {
          "base_uri": "https://localhost:8080/"
        },
        "id": "7S0tZXE2Zsjh",
        "outputId": "d1f07b24-bef9-4ccd-85b8-d5014edb9d31"
      },
      "execution_count": 42,
      "outputs": [
        {
          "output_type": "stream",
          "name": "stdout",
          "text": [
            "[1, 3, 5, 7, 9]\n"
          ]
        }
      ]
    },
    {
      "cell_type": "code",
      "source": [
        "# 구구단의 2단 출력\n",
        "# 2 x 1 = 2\n",
        "# 2 x 2 = 4\n",
        "# ...\n",
        "# 2 x 9 = 18\n",
        "\n",
        "for i in range(1,10):\n",
        "  print(f\"2 x {1} = {2*i}\")"
      ],
      "metadata": {
        "colab": {
          "base_uri": "https://localhost:8080/"
        },
        "id": "YFZJFGKZZyMB",
        "outputId": "130ecfb4-6039-4077-909f-e0b0bd5197eb"
      },
      "execution_count": 44,
      "outputs": [
        {
          "output_type": "stream",
          "name": "stdout",
          "text": [
            "2 x 1 = 2\n",
            "2 x 1 = 4\n",
            "2 x 1 = 6\n",
            "2 x 1 = 8\n",
            "2 x 1 = 10\n",
            "2 x 1 = 12\n",
            "2 x 1 = 14\n",
            "2 x 1 = 16\n",
            "2 x 1 = 18\n"
          ]
        }
      ]
    },
    {
      "cell_type": "code",
      "source": [
        "# 2, 4, 6, 8 단\n",
        "# 1, 2, 3, 4, 5, 6, 7, 8, 9\n",
        "\n",
        "for i in range(2, 9, 2):\n",
        "  print(f\"# {i}단\")\n",
        "  for j in range(1,10,1):\n",
        "    print(f\"{i} x {j} = {i*j}\")\n",
        "  print(\"\")"
      ],
      "metadata": {
        "colab": {
          "base_uri": "https://localhost:8080/"
        },
        "id": "rIFb3CkNakWP",
        "outputId": "03cabe37-2501-4d2a-afc3-92331caf1c82"
      },
      "execution_count": 48,
      "outputs": [
        {
          "output_type": "stream",
          "name": "stdout",
          "text": [
            "# 2단\n",
            "2 x 1 = 2\n",
            "2 x 2 = 4\n",
            "2 x 3 = 6\n",
            "2 x 4 = 8\n",
            "2 x 5 = 10\n",
            "2 x 6 = 12\n",
            "2 x 7 = 14\n",
            "2 x 8 = 16\n",
            "2 x 9 = 18\n",
            "\n",
            "# 4단\n",
            "4 x 1 = 4\n",
            "4 x 2 = 8\n",
            "4 x 3 = 12\n",
            "4 x 4 = 16\n",
            "4 x 5 = 20\n",
            "4 x 6 = 24\n",
            "4 x 7 = 28\n",
            "4 x 8 = 32\n",
            "4 x 9 = 36\n",
            "\n",
            "# 6단\n",
            "6 x 1 = 6\n",
            "6 x 2 = 12\n",
            "6 x 3 = 18\n",
            "6 x 4 = 24\n",
            "6 x 5 = 30\n",
            "6 x 6 = 36\n",
            "6 x 7 = 42\n",
            "6 x 8 = 48\n",
            "6 x 9 = 54\n",
            "\n",
            "# 8단\n",
            "8 x 1 = 8\n",
            "8 x 2 = 16\n",
            "8 x 3 = 24\n",
            "8 x 4 = 32\n",
            "8 x 5 = 40\n",
            "8 x 6 = 48\n",
            "8 x 7 = 56\n",
            "8 x 8 = 64\n",
            "8 x 9 = 72\n",
            "\n"
          ]
        }
      ]
    },
    {
      "cell_type": "code",
      "source": [
        "# while문"
      ],
      "metadata": {
        "id": "1MJFGDVWi_es"
      },
      "execution_count": 75,
      "outputs": []
    },
    {
      "cell_type": "code",
      "source": [
        "# while 조건문:\n",
        "#   // do something\n",
        "\n",
        "# while:\n",
        "#   if 조건문:\n",
        "#     break\n",
        "#   // do something\n",
        "\n",
        "\n",
        "num = 5\n",
        "result = 1\n",
        "while num > 0:\n",
        "  print(f\"{result}, {num}\")\n",
        "  result *= num\n",
        "  num -= 1\n",
        "\n",
        "print(result)"
      ],
      "metadata": {
        "colab": {
          "base_uri": "https://localhost:8080/"
        },
        "id": "72DVncZteX5U",
        "outputId": "2ad3a797-7940-4c13-ae8d-c58caee49b7b"
      },
      "execution_count": 52,
      "outputs": [
        {
          "output_type": "stream",
          "name": "stdout",
          "text": [
            "1, 5\n",
            "5, 4\n",
            "20, 3\n",
            "60, 2\n",
            "120, 1\n",
            "120\n"
          ]
        }
      ]
    },
    {
      "cell_type": "code",
      "source": [
        "num = 5\n",
        "result = 1\n",
        "while True:\n",
        "  if num == 0:\n",
        "    break\n",
        "\n",
        "  print(f\"{result}, {num}\")\n",
        "  result *= num\n",
        "  num -= 1\n",
        "\n",
        "print(result)"
      ],
      "metadata": {
        "colab": {
          "base_uri": "https://localhost:8080/"
        },
        "id": "dviyY2xhfAkL",
        "outputId": "12283af4-a224-45b0-d77f-ea872784c13f"
      },
      "execution_count": 54,
      "outputs": [
        {
          "output_type": "stream",
          "name": "stdout",
          "text": [
            "1, 5\n",
            "5, 4\n",
            "20, 3\n",
            "60, 2\n",
            "120, 1\n",
            "120\n"
          ]
        }
      ]
    },
    {
      "cell_type": "code",
      "source": [
        "# def 함수"
      ],
      "metadata": {
        "id": "EC-PzTFCi9VD"
      },
      "execution_count": 74,
      "outputs": []
    },
    {
      "cell_type": "code",
      "source": [
        "## param(x), return(x)\n",
        "\n",
        "\n",
        "def hello():\n",
        "  print(\"hello\")\n",
        "\n",
        "hello()  # 함수 호출\n",
        "print(\"\")\n",
        "res = hello()\n",
        "print(res)"
      ],
      "metadata": {
        "colab": {
          "base_uri": "https://localhost:8080/"
        },
        "id": "jiXRZq27fvDA",
        "outputId": "53844bd8-b66e-43a3-a54e-de3be29d9bce"
      },
      "execution_count": 73,
      "outputs": [
        {
          "output_type": "stream",
          "name": "stdout",
          "text": [
            "hello\n",
            "\n",
            "hello\n",
            "None\n"
          ]
        }
      ]
    },
    {
      "cell_type": "code",
      "source": [
        "## param(x), return(o)\n",
        "\n",
        "def add():\n",
        "  a = 2\n",
        "  b = 3\n",
        "  return a + b\n",
        "\n",
        "res = add()\n",
        "print(res)"
      ],
      "metadata": {
        "colab": {
          "base_uri": "https://localhost:8080/"
        },
        "id": "-HibIMT6g2_z",
        "outputId": "0ef1693f-a4be-44cb-d724-c339bbd90501"
      },
      "execution_count": 62,
      "outputs": [
        {
          "output_type": "stream",
          "name": "stdout",
          "text": [
            "5\n"
          ]
        }
      ]
    },
    {
      "cell_type": "code",
      "source": [
        "## param(o), return(o)\n",
        "\n",
        "def add_two(num1, num2):\n",
        "  return num1 + num2\n",
        "\n",
        "res = add_two(3,4)\n",
        "print(res)"
      ],
      "metadata": {
        "colab": {
          "base_uri": "https://localhost:8080/"
        },
        "id": "jXqVpewchbrj",
        "outputId": "40ecf79c-1a6b-4a72-8119-7d42ebd8cd4d"
      },
      "execution_count": 65,
      "outputs": [
        {
          "output_type": "stream",
          "name": "stdout",
          "text": [
            "7\n"
          ]
        }
      ]
    },
    {
      "cell_type": "code",
      "source": [
        "## param(o), return(x)\n",
        "\n",
        "def add_two2(num1, num2):\n",
        "  print(f\"{num1} + {num2} = {num1 + num2}\")\n",
        "\n",
        "res = add_two2(1,2)\n",
        "print(res)\n",
        "\n",
        "# 출력과 return은 별개\n",
        "## return 있으면 변수에 값 넘어갈 수 있음\n",
        "## return 없으면 변수에 값 안넘어가서 결과가 None"
      ],
      "metadata": {
        "colab": {
          "base_uri": "https://localhost:8080/"
        },
        "id": "c4h1z6jQh1tJ",
        "outputId": "44f3a1fd-4e0c-4ee3-826f-c80fda488392"
      },
      "execution_count": 68,
      "outputs": [
        {
          "output_type": "stream",
          "name": "stdout",
          "text": [
            "1 + 2 = 3\n",
            "None\n"
          ]
        }
      ]
    },
    {
      "cell_type": "code",
      "source": [
        "# input 받기"
      ],
      "metadata": {
        "id": "NlUOHUfvjImk"
      },
      "execution_count": null,
      "outputs": []
    },
    {
      "cell_type": "code",
      "source": [
        "name = input()\n",
        "print(f\"안녕하세요, {name}.\")"
      ],
      "metadata": {
        "colab": {
          "base_uri": "https://localhost:8080/"
        },
        "id": "2lJLc9yPiOXj",
        "outputId": "b270490c-6c09-4455-9367-f6848ed88521"
      },
      "execution_count": 72,
      "outputs": [
        {
          "output_type": "stream",
          "name": "stdout",
          "text": [
            "ken\n",
            "안녕하세요, ken.\n"
          ]
        }
      ]
    },
    {
      "cell_type": "code",
      "source": [
        "# 파일 열기 - with open\n",
        "\n",
        "## with open에서 default = \"r\"; read mode"
      ],
      "metadata": {
        "id": "k6XhDxcYkC4W"
      },
      "execution_count": 78,
      "outputs": []
    },
    {
      "cell_type": "code",
      "source": [
        "with open(\"sample.txt\") as handle:\n",
        "  print(type(handle))\n",
        "\n",
        "  for line in handle:\n",
        "    print(line.strip())\n",
        "\n",
        "## 내장함수 type(): 변수 형식 알려줌\n",
        "## handle : TextIOWarpper"
      ],
      "metadata": {
        "colab": {
          "base_uri": "https://localhost:8080/"
        },
        "id": "aT1qPBwCi4MT",
        "outputId": "d705f33c-8077-4573-9739-bc5b19c6dac9"
      },
      "execution_count": 80,
      "outputs": [
        {
          "output_type": "stream",
          "name": "stdout",
          "text": [
            "<class '_io.TextIOWrapper'>\n",
            ">sample species\n",
            "ATTAAAGGTTTATACCTTCCCAGGTAACAAACCAACCAACTTTCGATCTCTTGTAGATCTGTTCTCTAAA\n",
            "CGAACTTTAAAATCTGTGTGGCTGTCACTCGGCTGCATGCTTAGTGCACTCACGCAGTATAATTAATAAC\n"
          ]
        }
      ]
    },
    {
      "cell_type": "code",
      "source": [
        "with open(\"sample.txt\") as handle:\n",
        "  data = handle.readlines()\n",
        "\n",
        "print(data)\n",
        "\n",
        "## readlines() : list로 반환됨 (comma separated)"
      ],
      "metadata": {
        "colab": {
          "base_uri": "https://localhost:8080/"
        },
        "id": "JrReDi_ykZC6",
        "outputId": "05b76fd4-a1d7-4e65-8316-7669834a78f4"
      },
      "execution_count": 84,
      "outputs": [
        {
          "output_type": "stream",
          "name": "stdout",
          "text": [
            "['>sample species\\n', 'ATTAAAGGTTTATACCTTCCCAGGTAACAAACCAACCAACTTTCGATCTCTTGTAGATCTGTTCTCTAAA\\n', 'CGAACTTTAAAATCTGTGTGGCTGTCACTCGGCTGCATGCTTAGTGCACTCACGCAGTATAATTAATAAC']\n"
          ]
        }
      ]
    },
    {
      "cell_type": "code",
      "source": [
        "with open(\"write_test.txt\", \"w\") as handle:\n",
        "  handle.write(\"쓰기테스트.\\n\")\n",
        "  handle.write(\"안녕하세요.\")\n",
        "\n",
        "# 파일탐색기) write_test.txt 파일 생성됨"
      ],
      "metadata": {
        "id": "Sp-ggLNIk43U"
      },
      "execution_count": 86,
      "outputs": []
    },
    {
      "cell_type": "code",
      "source": [
        "# 주석"
      ],
      "metadata": {
        "id": "Z_y0tet6lTbR"
      },
      "execution_count": 88,
      "outputs": []
    },
    {
      "cell_type": "code",
      "source": [
        "# comment\n",
        "\n",
        "\"\"\"\n",
        "multiple line\n",
        "comments\n",
        "\"\"\"\n"
      ],
      "metadata": {
        "colab": {
          "base_uri": "https://localhost:8080/",
          "height": 35
        },
        "id": "ycoJDDJnl9e1",
        "outputId": "fea5cbe4-4d79-4a33-ac2a-26432148be18"
      },
      "execution_count": 90,
      "outputs": [
        {
          "output_type": "execute_result",
          "data": {
            "text/plain": [
              "'\\nmultiple line\\ncomments\\n'"
            ],
            "application/vnd.google.colaboratory.intrinsic+json": {
              "type": "string"
            }
          },
          "metadata": {},
          "execution_count": 90
        }
      ]
    },
    {
      "cell_type": "code",
      "source": [
        "# 예외 처리\n",
        "\n",
        "## 오류나도 실행됨"
      ],
      "metadata": {
        "id": "HCz1P7vomDxK"
      },
      "execution_count": 92,
      "outputs": []
    },
    {
      "cell_type": "code",
      "source": [
        "try:\n",
        "  with open(\"abc.txt\") as handle:\n",
        "    print(handle.realines())\n",
        "except:\n",
        "  pass\n",
        "\n",
        "print(\"Done!\")"
      ],
      "metadata": {
        "colab": {
          "base_uri": "https://localhost:8080/"
        },
        "id": "ZQRKB9nsmMdM",
        "outputId": "520e6e87-f99b-477b-e1a2-7ab6536565d1"
      },
      "execution_count": 94,
      "outputs": [
        {
          "output_type": "stream",
          "name": "stdout",
          "text": [
            "Done!\n"
          ]
        }
      ]
    },
    {
      "cell_type": "code",
      "source": [
        "try:\n",
        "  with open(\"abc.txt\") as handle:\n",
        "    print(handle.realines())\n",
        "except FileNotFoundError as err:  # err 변수에 오류 내용 집어넣음\n",
        "  print(\"ERROR:\", err)\n",
        "\n",
        "print(\"Done!\")"
      ],
      "metadata": {
        "colab": {
          "base_uri": "https://localhost:8080/"
        },
        "id": "aIe_WojDmkLL",
        "outputId": "3c655f07-fc24-4f01-b225-20756f9bc2db"
      },
      "execution_count": 96,
      "outputs": [
        {
          "output_type": "stream",
          "name": "stdout",
          "text": [
            "ERROR: [Errno 2] No such file or directory: 'abc.txt'\n",
            "Done!\n"
          ]
        }
      ]
    },
    {
      "cell_type": "code",
      "source": [
        "try:\n",
        "   res = 10 / 0\n",
        "   print(res)\n",
        "except FileNotFoundError as err:\n",
        "  print(\"ERROR:\", err)\n",
        "except ZeroDivisionError as err:   # try 부분에서 나는 오류 종류 넣어줌\n",
        "  print(\"ERROR:\", err)\n",
        "\n",
        "print(\"Done!\")"
      ],
      "metadata": {
        "colab": {
          "base_uri": "https://localhost:8080/"
        },
        "id": "1nEnbgDIm0-r",
        "outputId": "0ba34511-e2bf-4c66-9c5e-812851968531"
      },
      "execution_count": 101,
      "outputs": [
        {
          "output_type": "stream",
          "name": "stdout",
          "text": [
            "ERROR: division by zero\n",
            "Done!\n"
          ]
        }
      ]
    },
    {
      "cell_type": "code",
      "source": [
        "try:\n",
        "   res = 10 / 0\n",
        "   print(res)\n",
        "except Exception as err:\n",
        "  print(\"Error\", err)\n",
        "\n",
        "print(\"Done!\")"
      ],
      "metadata": {
        "colab": {
          "base_uri": "https://localhost:8080/"
        },
        "id": "Z_yMMQXXnYd0",
        "outputId": "f1d6df78-12c9-4c16-c370-ef469a5f8be5"
      },
      "execution_count": 1,
      "outputs": [
        {
          "output_type": "stream",
          "name": "stdout",
          "text": [
            "Error division by zero\n",
            "Done!\n"
          ]
        }
      ]
    },
    {
      "cell_type": "code",
      "source": [
        "# 문자열 더하기"
      ],
      "metadata": {
        "id": "JAPmxNsW8rET"
      },
      "execution_count": 3,
      "outputs": []
    },
    {
      "cell_type": "code",
      "source": [
        "s1 = \"Bio\"\n",
        "s2 = \"Informatics\"\n",
        "s3 = s1 + s2\n",
        "\n",
        "print(s3)"
      ],
      "metadata": {
        "colab": {
          "base_uri": "https://localhost:8080/"
        },
        "id": "EPE6KQ_U-pCc",
        "outputId": "076ed23a-9678-4f6d-9654-b29bc771b66b"
      },
      "execution_count": 6,
      "outputs": [
        {
          "output_type": "stream",
          "name": "stdout",
          "text": [
            "BioInformatics\n"
          ]
        }
      ]
    },
    {
      "cell_type": "code",
      "source": [
        "dir(s1)"
      ],
      "metadata": {
        "colab": {
          "base_uri": "https://localhost:8080/"
        },
        "id": "F1F2Gapz_C5I",
        "outputId": "a903cb1e-cdb7-4d81-e7c5-167dbd01e0de"
      },
      "execution_count": 8,
      "outputs": [
        {
          "output_type": "execute_result",
          "data": {
            "text/plain": [
              "['__add__',\n",
              " '__class__',\n",
              " '__contains__',\n",
              " '__delattr__',\n",
              " '__dir__',\n",
              " '__doc__',\n",
              " '__eq__',\n",
              " '__format__',\n",
              " '__ge__',\n",
              " '__getattribute__',\n",
              " '__getitem__',\n",
              " '__getnewargs__',\n",
              " '__gt__',\n",
              " '__hash__',\n",
              " '__init__',\n",
              " '__init_subclass__',\n",
              " '__iter__',\n",
              " '__le__',\n",
              " '__len__',\n",
              " '__lt__',\n",
              " '__mod__',\n",
              " '__mul__',\n",
              " '__ne__',\n",
              " '__new__',\n",
              " '__reduce__',\n",
              " '__reduce_ex__',\n",
              " '__repr__',\n",
              " '__rmod__',\n",
              " '__rmul__',\n",
              " '__setattr__',\n",
              " '__sizeof__',\n",
              " '__str__',\n",
              " '__subclasshook__',\n",
              " 'capitalize',\n",
              " 'casefold',\n",
              " 'center',\n",
              " 'count',\n",
              " 'encode',\n",
              " 'endswith',\n",
              " 'expandtabs',\n",
              " 'find',\n",
              " 'format',\n",
              " 'format_map',\n",
              " 'index',\n",
              " 'isalnum',\n",
              " 'isalpha',\n",
              " 'isascii',\n",
              " 'isdecimal',\n",
              " 'isdigit',\n",
              " 'isidentifier',\n",
              " 'islower',\n",
              " 'isnumeric',\n",
              " 'isprintable',\n",
              " 'isspace',\n",
              " 'istitle',\n",
              " 'isupper',\n",
              " 'join',\n",
              " 'ljust',\n",
              " 'lower',\n",
              " 'lstrip',\n",
              " 'maketrans',\n",
              " 'partition',\n",
              " 'removeprefix',\n",
              " 'removesuffix',\n",
              " 'replace',\n",
              " 'rfind',\n",
              " 'rindex',\n",
              " 'rjust',\n",
              " 'rpartition',\n",
              " 'rsplit',\n",
              " 'rstrip',\n",
              " 'split',\n",
              " 'splitlines',\n",
              " 'startswith',\n",
              " 'strip',\n",
              " 'swapcase',\n",
              " 'title',\n",
              " 'translate',\n",
              " 'upper',\n",
              " 'zfill']"
            ]
          },
          "metadata": {},
          "execution_count": 8
        }
      ]
    },
    {
      "cell_type": "code",
      "source": [
        "seq1 = \"ATGTTATAG\"\n",
        "\n",
        "print(seq1)\n",
        "\n",
        "for i in range(len(seq1)):\n",
        "  print(i, seq1[i])  #[] : indexing"
      ],
      "metadata": {
        "colab": {
          "base_uri": "https://localhost:8080/"
        },
        "id": "JLkUG_pO_V_M",
        "outputId": "2556a09c-0d8c-4222-c8e0-93d3df1db843"
      },
      "execution_count": 12,
      "outputs": [
        {
          "output_type": "stream",
          "name": "stdout",
          "text": [
            "ATGTTATAG\n",
            "0 A\n",
            "1 T\n",
            "2 G\n",
            "3 T\n",
            "4 T\n",
            "5 A\n",
            "6 T\n",
            "7 A\n",
            "8 G\n"
          ]
        }
      ]
    },
    {
      "cell_type": "code",
      "source": [
        "# 6번째 문자 출력\n",
        "\n",
        "seq1 = \"ATGTTATAG\"\n",
        "print(seq1[5])"
      ],
      "metadata": {
        "colab": {
          "base_uri": "https://localhost:8080/"
        },
        "id": "Icr--wRQ_ieE",
        "outputId": "59a10271-b972-43fd-f2b8-910334ae6ecd"
      },
      "execution_count": 16,
      "outputs": [
        {
          "output_type": "stream",
          "name": "stdout",
          "text": [
            "A\n"
          ]
        }
      ]
    },
    {
      "cell_type": "code",
      "source": [
        "# 문자열 나누기"
      ],
      "metadata": {
        "id": "yEtb75gS_8vR"
      },
      "execution_count": 14,
      "outputs": []
    },
    {
      "cell_type": "code",
      "source": [
        "seq1 = \"ATGTTATAG\"\n",
        "\n",
        "print(seq1[3:6])\n",
        "\n",
        "# [시작:끝]\n",
        "## 끝은 포함 안됨"
      ],
      "metadata": {
        "colab": {
          "base_uri": "https://localhost:8080/"
        },
        "id": "rUyKRFlA__v8",
        "outputId": "402bbd0f-0d52-4168-b6c4-06a2df71c4a4"
      },
      "execution_count": 15,
      "outputs": [
        {
          "output_type": "stream",
          "name": "stdout",
          "text": [
            "TTA\n"
          ]
        }
      ]
    },
    {
      "cell_type": "code",
      "source": [
        "# 문자열 길이 구하기"
      ],
      "metadata": {
        "id": "7B9Hr3jpAi7v"
      },
      "execution_count": 18,
      "outputs": []
    },
    {
      "cell_type": "code",
      "source": [
        "seq1 = \"ATGTTATAG\"\n",
        "print(len(seq1))"
      ],
      "metadata": {
        "colab": {
          "base_uri": "https://localhost:8080/"
        },
        "id": "rwdBMeKYAGyh",
        "outputId": "31f6a1aa-7fdf-40b5-8895-b80eeea7b75e"
      },
      "execution_count": 17,
      "outputs": [
        {
          "output_type": "stream",
          "name": "stdout",
          "text": [
            "9\n"
          ]
        }
      ]
    },
    {
      "cell_type": "code",
      "source": [
        "# 문자열 대소문자 변환하기"
      ],
      "metadata": {
        "id": "z9WSCgjWAs8E"
      },
      "execution_count": 21,
      "outputs": []
    },
    {
      "cell_type": "code",
      "source": [
        "seq1 = \"ATGTTATAG\"\n",
        "print(seq1.upper())\n",
        "print(seq1.lower())\n",
        "\n",
        "\n",
        "# object(객체) . method : 객체에 대한 method\n",
        "## upper, lower : 문자열에 대한 method"
      ],
      "metadata": {
        "colab": {
          "base_uri": "https://localhost:8080/"
        },
        "id": "8vcz82g-AfMF",
        "outputId": "88bcb581-fbc9-45ec-bd11-effbe84a1053"
      },
      "execution_count": 22,
      "outputs": [
        {
          "output_type": "stream",
          "name": "stdout",
          "text": [
            "ATGTTATAG\n",
            "atgttatag\n"
          ]
        }
      ]
    },
    {
      "cell_type": "code",
      "source": [
        "# 문자열 n씩 건너뛰며 출력하기"
      ],
      "metadata": {
        "id": "G_sL-zp0BCqc"
      },
      "execution_count": 74,
      "outputs": []
    },
    {
      "cell_type": "code",
      "source": [
        "seq1 = \"ATGTTATAG\"\n",
        "\n",
        "for i in range(0,len(seq1), 3):\n",
        "  print(i, seq1[i])"
      ],
      "metadata": {
        "colab": {
          "base_uri": "https://localhost:8080/"
        },
        "id": "FH-N8owEArfQ",
        "outputId": "79e85054-d72a-437e-e984-e23e76cbaea7"
      },
      "execution_count": 24,
      "outputs": [
        {
          "output_type": "stream",
          "name": "stdout",
          "text": [
            "0 A\n",
            "3 T\n",
            "6 T\n"
          ]
        }
      ]
    },
    {
      "cell_type": "code",
      "source": [
        "# 문자열 n씩 건너뛰며 출력하기"
      ],
      "metadata": {
        "id": "BINfcuQ0B8fb"
      },
      "execution_count": 28,
      "outputs": []
    },
    {
      "cell_type": "code",
      "source": [
        "seq1 = \"ATGTTATAG\"\n",
        "\n",
        "for i in range(0, len(seq1), 3):\n",
        "  print(i, i+3, seq1[i:i+3])"
      ],
      "metadata": {
        "colab": {
          "base_uri": "https://localhost:8080/"
        },
        "id": "xHB6u5lgBO2B",
        "outputId": "f4da9479-bf2b-4f03-815a-e67c25b33697"
      },
      "execution_count": 26,
      "outputs": [
        {
          "output_type": "stream",
          "name": "stdout",
          "text": [
            "0 3 ATG\n",
            "3 6 TTA\n",
            "6 9 TAG\n"
          ]
        }
      ]
    },
    {
      "cell_type": "code",
      "source": [
        "# 문자열 순서 뒤집기"
      ],
      "metadata": {
        "id": "x0ClczVaBjvL"
      },
      "execution_count": 27,
      "outputs": []
    },
    {
      "cell_type": "code",
      "source": [
        "seq1 = \"ATGTTATAG\"\n",
        "result = \"\"\n",
        "\n",
        "for i in range(len(seq1)-1, -1,-1):\n",
        "  print(i, seq1[i])\n",
        "  result += seq1[i]\n",
        "print(result)"
      ],
      "metadata": {
        "colab": {
          "base_uri": "https://localhost:8080/"
        },
        "id": "BwVtCI5UB0Qz",
        "outputId": "830fba3f-f987-4d71-9830-88597f832a21"
      },
      "execution_count": 31,
      "outputs": [
        {
          "output_type": "stream",
          "name": "stdout",
          "text": [
            "8 G\n",
            "7 A\n",
            "6 T\n",
            "5 A\n",
            "4 T\n",
            "3 T\n",
            "2 G\n",
            "1 T\n",
            "0 A\n",
            "GATATTGTA\n"
          ]
        }
      ]
    },
    {
      "cell_type": "code",
      "source": [
        "seq1 = \"ATGTTATAG\"\n",
        "result = seq1[::-1]  # index default == [0:len:step]\n",
        "print(result)"
      ],
      "metadata": {
        "colab": {
          "base_uri": "https://localhost:8080/"
        },
        "id": "Nllblj1NCRly",
        "outputId": "2b93cc3e-1e6c-44f3-f450-79221959fe87"
      },
      "execution_count": 32,
      "outputs": [
        {
          "output_type": "stream",
          "name": "stdout",
          "text": [
            "GATATTGTA\n"
          ]
        }
      ]
    },
    {
      "cell_type": "code",
      "source": [
        "# 상보적 서열 만들기"
      ],
      "metadata": {
        "id": "H-gL0unbDRpZ"
      },
      "execution_count": 34,
      "outputs": []
    },
    {
      "cell_type": "code",
      "source": [
        "seq1 = \"ATGTTATAG\"\n",
        "result = \"\"\n",
        "\n",
        "for base in seq1:\n",
        "  if base == \"A\":\n",
        "    result += \"T\"\n",
        "  elif base == \"C\":\n",
        "    result += \"G\"\n",
        "  elif base == \"G\":\n",
        "    result += \"C\"\n",
        "  elif base == \"T\":\n",
        "    result += \"A\"\n",
        "\n",
        "print(seq1)\n",
        "print(result)"
      ],
      "metadata": {
        "colab": {
          "base_uri": "https://localhost:8080/"
        },
        "id": "1CP-B9hXCYur",
        "outputId": "276ecdd8-4cd0-46f9-f614-d193c1e4d9f0"
      },
      "execution_count": 33,
      "outputs": [
        {
          "output_type": "stream",
          "name": "stdout",
          "text": [
            "ATGTTATAG\n",
            "TACAATATC\n"
          ]
        }
      ]
    },
    {
      "cell_type": "code",
      "source": [
        "complement = {\"A\" : \"T\", \"C\" : \"G\", \"G\" : \"C\", \"T\" : \"A\"}\n",
        "\n",
        "# print(complement[\"A\"])  # T\n",
        "# print(complement[\"G\"])  # C\n",
        "\n",
        "\n",
        "seq1 = \"ATGTTATAG\"\n",
        "result = \"\"\n",
        "\n",
        "for base in seq1:\n",
        "  result += complement[base]\n",
        "print(seq1)\n",
        "print(result)"
      ],
      "metadata": {
        "colab": {
          "base_uri": "https://localhost:8080/"
        },
        "id": "avsI21pdDQ1G",
        "outputId": "7ad1b7a7-1e19-4d87-c8f8-d2b0fb9e9f13"
      },
      "execution_count": 39,
      "outputs": [
        {
          "output_type": "stream",
          "name": "stdout",
          "text": [
            "ATGTTATAG\n",
            "TACAATATC\n"
          ]
        }
      ]
    },
    {
      "cell_type": "code",
      "source": [
        "# 특정 문자 확인하"
      ],
      "metadata": {
        "id": "JmUwyp6VD6e7"
      },
      "execution_count": 40,
      "outputs": []
    },
    {
      "cell_type": "code",
      "source": [
        "seq1 = \"ATGTTATAG\"\n",
        "\n",
        "for base in seq1:\n",
        "  if base == \"C\" :\n",
        "    print(\"C in seq\")\n",
        "  else:\n",
        "    print(\"C not in seq\")"
      ],
      "metadata": {
        "colab": {
          "base_uri": "https://localhost:8080/"
        },
        "id": "CBqUzn0oEYaK",
        "outputId": "0ac13128-8406-4e39-e665-a99049087fdc"
      },
      "execution_count": 44,
      "outputs": [
        {
          "output_type": "stream",
          "name": "stdout",
          "text": [
            "C not in seq\n",
            "C not in seq\n",
            "C not in seq\n",
            "C not in seq\n",
            "C not in seq\n",
            "C not in seq\n",
            "C not in seq\n",
            "C not in seq\n",
            "C not in seq\n"
          ]
        }
      ]
    },
    {
      "cell_type": "code",
      "source": [
        "seq1 = \"ATGTTATAG\"\n",
        "\n",
        "if \"C\" in seq1:\n",
        "  print(\"C in seq\")\n",
        "else:\n",
        "  print(\"C not in seq\")"
      ],
      "metadata": {
        "colab": {
          "base_uri": "https://localhost:8080/"
        },
        "id": "0jdmGezuEgwg",
        "outputId": "65d4ae03-a330-4097-ad0e-11a1d46888ac"
      },
      "execution_count": 43,
      "outputs": [
        {
          "output_type": "stream",
          "name": "stdout",
          "text": [
            "C not in seq\n"
          ]
        }
      ]
    },
    {
      "cell_type": "code",
      "source": [
        "# 문자열 index 번호 출력하기"
      ],
      "metadata": {
        "id": "Q8NoaKziF4J_"
      },
      "execution_count": 73,
      "outputs": []
    },
    {
      "cell_type": "code",
      "source": [
        "seq1 = \"ATGTTATAG\"\n",
        "\n",
        "for base in range(len(seq1)):\n",
        "  base = seq1[base]\n",
        "  if base == \"T\":\n",
        "    break\n",
        "print(i)"
      ],
      "metadata": {
        "colab": {
          "base_uri": "https://localhost:8080/"
        },
        "id": "AJvokbLBEr7i",
        "outputId": "0c5092b5-8ca1-4250-87ae-4fb39a4e6cf3"
      },
      "execution_count": 50,
      "outputs": [
        {
          "output_type": "stream",
          "name": "stdout",
          "text": [
            "1\n"
          ]
        }
      ]
    },
    {
      "cell_type": "code",
      "source": [
        "seq1 = \"ATGTTATAG\"\n",
        "\n",
        "for i, base in enumerate(seq1):\n",
        "  print(i, base)\n",
        "\n",
        "\n",
        "# ecumerate() : index를 출력해줌"
      ],
      "metadata": {
        "colab": {
          "base_uri": "https://localhost:8080/"
        },
        "id": "3k1IviWmFBha",
        "outputId": "37afa6fe-9eec-4718-f151-fd94cd3c698c"
      },
      "execution_count": 51,
      "outputs": [
        {
          "output_type": "stream",
          "name": "stdout",
          "text": [
            "0 A\n",
            "1 T\n",
            "2 G\n",
            "3 T\n",
            "4 T\n",
            "5 A\n",
            "6 T\n",
            "7 A\n",
            "8 G\n"
          ]
        }
      ]
    },
    {
      "cell_type": "code",
      "source": [
        "seq1 = \"ATGTTATAG\"\n",
        "\n",
        "for i, base in enumerate(seq1):\n",
        "  if base == \"T\":\n",
        "    print(i, base)\n",
        "    break"
      ],
      "metadata": {
        "colab": {
          "base_uri": "https://localhost:8080/"
        },
        "id": "fDhaEZBbFQ-e",
        "outputId": "c1d6199b-132b-492b-d9dd-949b0e476cf3"
      },
      "execution_count": 49,
      "outputs": [
        {
          "output_type": "stream",
          "name": "stdout",
          "text": [
            "1 T\n"
          ]
        }
      ]
    },
    {
      "cell_type": "code",
      "source": [
        "seq1 = \"AGTTTATAG\"\n",
        "#       012345678\n",
        "\n",
        "for i in range(len(seq1)):\n",
        "  if seq1[i:i+2] == \"TT\":\n",
        "    print(i, seq1[i:i+2])"
      ],
      "metadata": {
        "colab": {
          "base_uri": "https://localhost:8080/"
        },
        "id": "P7L0CRs9Fg3F",
        "outputId": "cd15229d-0e6d-43dd-d83c-ba34313e5184"
      },
      "execution_count": 55,
      "outputs": [
        {
          "output_type": "stream",
          "name": "stdout",
          "text": [
            "2 TT\n",
            "3 TT\n"
          ]
        }
      ]
    },
    {
      "cell_type": "code",
      "source": [
        "seq1 = \"AGTTTATAG\"\n",
        "print(seq1.index(\"T\"))\n",
        "print(seq1.index(\"TT\"))\n",
        "\n",
        "# 이렇게 해도 되지만 문자열 전체를 범위로 하려면 위에 처럼 해야 함"
      ],
      "metadata": {
        "colab": {
          "base_uri": "https://localhost:8080/"
        },
        "id": "euLNBuzGGK6g",
        "outputId": "df95d91c-43ad-4967-bfc9-34abda578f2d"
      },
      "execution_count": 57,
      "outputs": [
        {
          "output_type": "stream",
          "name": "stdout",
          "text": [
            "2\n",
            "2\n"
          ]
        }
      ]
    },
    {
      "cell_type": "code",
      "source": [
        "# 문자열을 리스트로 바꾸기"
      ],
      "metadata": {
        "id": "eY9V36kKHEua"
      },
      "execution_count": 59,
      "outputs": []
    },
    {
      "cell_type": "code",
      "source": [
        "s1 = \"AA,AC,AG,AT\"\n",
        "data = s1.split(\",\")\n",
        "print(data)\n",
        "print(type(data))"
      ],
      "metadata": {
        "colab": {
          "base_uri": "https://localhost:8080/"
        },
        "id": "eQPoRE8XGxPl",
        "outputId": "1c36870d-8c62-43f8-ceae-cdaef849a1a8"
      },
      "execution_count": 62,
      "outputs": [
        {
          "output_type": "stream",
          "name": "stdout",
          "text": [
            "['AA', 'AC', 'AG', 'AT']\n",
            "<class 'list'>\n"
          ]
        }
      ]
    },
    {
      "cell_type": "code",
      "source": [
        "# 리스트에 요소 추가하기"
      ],
      "metadata": {
        "id": "eENs5RAmH6UF"
      },
      "execution_count": 69,
      "outputs": []
    },
    {
      "cell_type": "code",
      "source": [
        "s1 = \"AA,AC,AG,AT\"\n",
        "data = s1.split(\",\")\n",
        "\n",
        "s2 = \"_\".join(data)\n",
        "print(s2)\n",
        "\n",
        "s3 = \"||\".join(data)\n",
        "print(s3)"
      ],
      "metadata": {
        "colab": {
          "base_uri": "https://localhost:8080/"
        },
        "id": "0fImhwGWHB3j",
        "outputId": "f481e817-f8d2-4602-f784-d84fa811ca96"
      },
      "execution_count": 70,
      "outputs": [
        {
          "output_type": "stream",
          "name": "stdout",
          "text": [
            "AA_AC_AG_AT\n",
            "AA||AC||AG||AT\n"
          ]
        }
      ]
    },
    {
      "cell_type": "code",
      "source": [
        "# 리스트 순서 뒤집기"
      ],
      "metadata": {
        "id": "TOMS6j7SH9fu"
      },
      "execution_count": 71,
      "outputs": []
    },
    {
      "cell_type": "code",
      "source": [
        "seq1 = \"ATGTTATAG\"\n",
        "print(seq1[::-1])\n",
        "\n",
        "data = [\"AA\", \"AC\", \"AG\", \"AT\"]\n",
        "print(data[::-1])"
      ],
      "metadata": {
        "colab": {
          "base_uri": "https://localhost:8080/"
        },
        "id": "q0-9pAhYHVqg",
        "outputId": "93ab1fcc-43be-496f-8fe5-ac30e34629da"
      },
      "execution_count": 72,
      "outputs": [
        {
          "output_type": "stream",
          "name": "stdout",
          "text": [
            "GATATTGTA\n",
            "['AT', 'AG', 'AC', 'AA']\n"
          ]
        }
      ]
    },
    {
      "cell_type": "code",
      "source": [
        "# 리스트에서 가장 큰 값, 작은 값 구하기"
      ],
      "metadata": {
        "id": "8wxihcIbIQGR"
      },
      "execution_count": 76,
      "outputs": []
    },
    {
      "cell_type": "code",
      "source": [
        "data = [3, 1, 1, 2, 0, 0 ,2, 3, 3]\n",
        "\n",
        "print(max(data))\n",
        "print(min(data))"
      ],
      "metadata": {
        "colab": {
          "base_uri": "https://localhost:8080/"
        },
        "id": "z7_FuNt2HxG7",
        "outputId": "23c8f238-4475-4288-f698-c911e91a1db4"
      },
      "execution_count": 75,
      "outputs": [
        {
          "output_type": "stream",
          "name": "stdout",
          "text": [
            "3\n",
            "0\n"
          ]
        }
      ]
    },
    {
      "cell_type": "code",
      "source": [
        "data = [3, 1, 1, 2, 0, 0 ,2, 3, 3]\n",
        "\n",
        "max_val = data[0]\n",
        "min_val = data[0]   # val이 data list의 첫번째 수라고 가정하고\n",
        "\n",
        "for i in data:\n",
        "  if i > max_val:\n",
        "    max_val = i  # i가 더 크면 max_val을 치환\n",
        "  if i < min_val:\n",
        "    min_val = i  # i가 더 작으면 max_val을 치환\n",
        "\n",
        "print(max_val, min_val)"
      ],
      "metadata": {
        "colab": {
          "base_uri": "https://localhost:8080/"
        },
        "id": "cjAlQzZ5IOnp",
        "outputId": "9208130f-4b34-4f87-b70e-5a21fa0dbc7f"
      },
      "execution_count": 77,
      "outputs": [
        {
          "output_type": "stream",
          "name": "stdout",
          "text": [
            "3 0\n"
          ]
        }
      ]
    },
    {
      "cell_type": "code",
      "source": [
        "# 리스트의 합"
      ],
      "metadata": {
        "id": "IpcWIaxsI1Xa"
      },
      "execution_count": 78,
      "outputs": []
    },
    {
      "cell_type": "code",
      "source": [
        "data = [3, 1, 1, 2, 0, 0 ,2, 3, 3]\n",
        "result = 0\n",
        "for i in data:\n",
        "  result += i\n",
        "print(result)"
      ],
      "metadata": {
        "colab": {
          "base_uri": "https://localhost:8080/"
        },
        "id": "blFY4S79I5k7",
        "outputId": "689dfd6a-4220-4fb6-abf4-bbf80c063b71"
      },
      "execution_count": 80,
      "outputs": [
        {
          "output_type": "stream",
          "name": "stdout",
          "text": [
            "15\n"
          ]
        }
      ]
    },
    {
      "cell_type": "code",
      "source": [
        "data = [3, 1, 1, 2, 0, 0 ,2, 3, 3]\n",
        "print(sum(data))"
      ],
      "metadata": {
        "colab": {
          "base_uri": "https://localhost:8080/"
        },
        "id": "YPMCc6eXJEI7",
        "outputId": "6da81dc0-0a9c-4a28-9bec-da04d9f8fc95"
      },
      "execution_count": 81,
      "outputs": [
        {
          "output_type": "stream",
          "name": "stdout",
          "text": [
            "15\n"
          ]
        }
      ]
    },
    {
      "cell_type": "code",
      "source": [
        "# 리스트 요소의 개수(길이) 구하기"
      ],
      "metadata": {
        "id": "Gx8GKbaBJHEJ"
      },
      "execution_count": 82,
      "outputs": []
    },
    {
      "cell_type": "code",
      "source": [
        "data = [3, 1, 1, 2, 0, 0 ,2, 3, 3]\n",
        "print(len(data))"
      ],
      "metadata": {
        "colab": {
          "base_uri": "https://localhost:8080/"
        },
        "id": "otEkHA8_JNSf",
        "outputId": "6fbd4530-253a-474f-aee0-d88be5dc56d8"
      },
      "execution_count": 83,
      "outputs": [
        {
          "output_type": "stream",
          "name": "stdout",
          "text": [
            "9\n"
          ]
        }
      ]
    },
    {
      "cell_type": "code",
      "source": [
        "# 리스트의 평균"
      ],
      "metadata": {
        "id": "6vlWY0X-JPnC"
      },
      "execution_count": 84,
      "outputs": []
    },
    {
      "cell_type": "code",
      "source": [
        "data = [3, 1, 1, 2, 0, 0 ,2, 3, 3]\n",
        "print(sum(data)/len(data))"
      ],
      "metadata": {
        "colab": {
          "base_uri": "https://localhost:8080/"
        },
        "id": "chiR6Z2SJSZ6",
        "outputId": "aa48a1ab-0c0b-4424-ddba-35b0a9915330"
      },
      "execution_count": 85,
      "outputs": [
        {
          "output_type": "stream",
          "name": "stdout",
          "text": [
            "1.6666666666666667\n"
          ]
        }
      ]
    },
    {
      "cell_type": "code",
      "source": [
        "## cf) 평균, 표준편차 구하기\n",
        "\n",
        "data = [3, 1, 1, 2, 0, 0 ,2, 3, 3]\n",
        "\n",
        "import statistics\n",
        "statistics.mean(data)\n",
        "statistics.stdev(data)"
      ],
      "metadata": {
        "colab": {
          "base_uri": "https://localhost:8080/"
        },
        "id": "CzLgSG1yJnNA",
        "outputId": "21e78f91-defb-436e-ed2f-2a3966d71f52"
      },
      "execution_count": 90,
      "outputs": [
        {
          "output_type": "execute_result",
          "data": {
            "text/plain": [
              "1.224744871391589"
            ]
          },
          "metadata": {},
          "execution_count": 90
        }
      ]
    },
    {
      "cell_type": "code",
      "source": [
        "# range 와 list\n",
        "\n",
        "# range를 list 하면 list화 됨"
      ],
      "metadata": {
        "id": "xhLUJknTJUjG"
      },
      "execution_count": 98,
      "outputs": []
    },
    {
      "cell_type": "code",
      "source": [
        "data = list(range(0,10))\n",
        "print(data)"
      ],
      "metadata": {
        "colab": {
          "base_uri": "https://localhost:8080/"
        },
        "id": "DrVVz107JddK",
        "outputId": "30b801b8-ffea-413e-db47-3146bc0b0200"
      },
      "execution_count": 97,
      "outputs": [
        {
          "output_type": "stream",
          "name": "stdout",
          "text": [
            "[0, 1, 2, 3, 4, 5, 6, 7, 8, 9]\n"
          ]
        }
      ]
    },
    {
      "cell_type": "code",
      "source": [
        "# list 와 dictionary\n",
        "\n",
        "## dictionary = (key , value) 의 집합"
      ],
      "metadata": {
        "id": "s63rYOshJYZW"
      },
      "execution_count": 87,
      "outputs": []
    },
    {
      "cell_type": "code",
      "source": [
        "data = [3, 1, 1, 2, 0, 0 ,2, 3, 3]\n",
        "print(data.count(0))\n",
        "print(data.count(1))\n",
        "print(data.count(2))\n",
        "print(data.count(3))"
      ],
      "metadata": {
        "colab": {
          "base_uri": "https://localhost:8080/"
        },
        "id": "-OMYWfTfJbpm",
        "outputId": "39d23bd0-777e-419d-ff8f-1c696fc8f16c"
      },
      "execution_count": 100,
      "outputs": [
        {
          "output_type": "stream",
          "name": "stdout",
          "text": [
            "2\n",
            "2\n",
            "2\n",
            "3\n"
          ]
        }
      ]
    },
    {
      "cell_type": "code",
      "source": [
        "# 파일 읽어서 사전을 활용한 문자 세기"
      ],
      "metadata": {
        "id": "16cKFfL1KAx_"
      },
      "execution_count": 92,
      "outputs": []
    },
    {
      "cell_type": "code",
      "source": [
        "data = [3, 1, 1, 2, 0, 0 ,2, 3, 3]\n",
        "count_data = dict()\n",
        "\n",
        "for i in data:\n",
        "  if i not in count_data:\n",
        "    count_data[i] = 0\n",
        "  count_data[i] += 1\n",
        "\n",
        "print(count_data)"
      ],
      "metadata": {
        "colab": {
          "base_uri": "https://localhost:8080/"
        },
        "id": "GFiYPmIfMzr2",
        "outputId": "a6a7d8ef-5701-4d4d-d3c2-71c5bffff17f"
      },
      "execution_count": 102,
      "outputs": [
        {
          "output_type": "stream",
          "name": "stdout",
          "text": [
            "{3: 3, 1: 2, 2: 2, 0: 2}\n",
            "3 3\n",
            "1 2\n",
            "2 2\n",
            "0 2\n"
          ]
        }
      ]
    },
    {
      "cell_type": "code",
      "source": [
        "data = [3, 1, 1, 2, 0, 0 ,2, 3, 3]\n",
        "count_data = dict()\n",
        "\n",
        "for i in data:\n",
        "  if i not in count_data:\n",
        "    count_data[i] = 0\n",
        "  count_data[i] += 1\n",
        "\n",
        "for key, value in count_data.items():\n",
        "  print(key, value)"
      ],
      "metadata": {
        "colab": {
          "base_uri": "https://localhost:8080/"
        },
        "id": "60y6OygdNdhf",
        "outputId": "d2652581-e070-43f4-b5a6-eea17d588c85"
      },
      "execution_count": 106,
      "outputs": [
        {
          "output_type": "stream",
          "name": "stdout",
          "text": [
            "3 3\n",
            "1 2\n",
            "2 2\n",
            "0 2\n"
          ]
        }
      ]
    },
    {
      "cell_type": "code",
      "source": [
        "count_data.items()"
      ],
      "metadata": {
        "colab": {
          "base_uri": "https://localhost:8080/"
        },
        "id": "arB7XGL6NoZt",
        "outputId": "30e295f8-ff84-4028-92fd-35bc74f5c4cf"
      },
      "execution_count": 107,
      "outputs": [
        {
          "output_type": "execute_result",
          "data": {
            "text/plain": [
              "dict_items([(3, 3), (1, 2), (2, 2), (0, 2)])"
            ]
          },
          "metadata": {},
          "execution_count": 107
        }
      ]
    },
    {
      "cell_type": "code",
      "source": [
        "count_data.keys()"
      ],
      "metadata": {
        "colab": {
          "base_uri": "https://localhost:8080/"
        },
        "id": "sYZQML3yNrFn",
        "outputId": "76185e1a-42d6-4aa7-c94a-4df8cf46d467"
      },
      "execution_count": 108,
      "outputs": [
        {
          "output_type": "execute_result",
          "data": {
            "text/plain": [
              "dict_keys([3, 1, 2, 0])"
            ]
          },
          "metadata": {},
          "execution_count": 108
        }
      ]
    },
    {
      "cell_type": "code",
      "source": [
        "sorted(count_data.keys())  #정렬"
      ],
      "metadata": {
        "colab": {
          "base_uri": "https://localhost:8080/"
        },
        "id": "Bhxa63uqNq9j",
        "outputId": "bedb0ab6-7cbb-41bf-fba8-f96f0b55ea79"
      },
      "execution_count": 110,
      "outputs": [
        {
          "output_type": "execute_result",
          "data": {
            "text/plain": [
              "[0, 1, 2, 3]"
            ]
          },
          "metadata": {},
          "execution_count": 110
        }
      ]
    },
    {
      "cell_type": "code",
      "source": [
        "for key in sorted(count_data.keys()):\n",
        "  print(key, count_data[key])"
      ],
      "metadata": {
        "colab": {
          "base_uri": "https://localhost:8080/"
        },
        "id": "QXckc_ZON4XG",
        "outputId": "473682b0-cbaf-49a2-f885-d0d81a638574"
      },
      "execution_count": 111,
      "outputs": [
        {
          "output_type": "stream",
          "name": "stdout",
          "text": [
            "0 2\n",
            "1 2\n",
            "2 2\n",
            "3 3\n"
          ]
        }
      ]
    },
    {
      "cell_type": "code",
      "source": [
        "data = dict()\n",
        "\n",
        "with open(\"sample.txt\") as handle:\n",
        "  for line in handle:\n",
        "    if line.startswith(\">\"):\n",
        "      continue   # 아래 for문 실행 안하고 새로 for문 돌릴 것\n",
        "\n",
        "    for base in line.strip():  # 엔터 고려해서 strip()\n",
        "      if base not in data:\n",
        "        data[base] = 0\n",
        "      data[base] += 1\n",
        "\n",
        "print(data)"
      ],
      "metadata": {
        "colab": {
          "base_uri": "https://localhost:8080/"
        },
        "id": "MarwrP_IKyhV",
        "outputId": "fbdbdfe3-c689-4e2f-cd85-ab7b9902ec75"
      },
      "execution_count": 115,
      "outputs": [
        {
          "output_type": "stream",
          "name": "stdout",
          "text": [
            "{'A': 41, 'T': 44, 'G': 22, 'C': 33}\n"
          ]
        }
      ]
    },
    {
      "cell_type": "code",
      "source": [
        "print(sorted(data.keys()))  # 알파벳 순으로 정렬"
      ],
      "metadata": {
        "colab": {
          "base_uri": "https://localhost:8080/"
        },
        "id": "E5RLWJD_PUHo",
        "outputId": "9091bd17-2e7e-4b19-8209-1a97ace66109"
      },
      "execution_count": 118,
      "outputs": [
        {
          "output_type": "stream",
          "name": "stdout",
          "text": [
            "['A', 'C', 'G', 'T']\n"
          ]
        }
      ]
    },
    {
      "cell_type": "code",
      "source": [
        "for base in sorted(data.keys()):\n",
        "  print(base, \":\", data[base])"
      ],
      "metadata": {
        "colab": {
          "base_uri": "https://localhost:8080/"
        },
        "id": "r9MV1S9vPdlM",
        "outputId": "2000c8e5-03fd-4721-9daa-a949f2e3a419"
      },
      "execution_count": 123,
      "outputs": [
        {
          "output_type": "stream",
          "name": "stdout",
          "text": [
            "A : 41\n",
            "C : 33\n",
            "G : 22\n",
            "T : 44\n"
          ]
        }
      ]
    },
    {
      "cell_type": "code",
      "source": [
        "# 세트 리스트 중복 제거\n",
        "\n",
        "## dic, set : 둘 다 {}로 묶임\n",
        "## dic : key value 있음\n",
        "## set : unique한 값만 있음"
      ],
      "metadata": {
        "id": "T2sPCj7fKyq4"
      },
      "execution_count": 94,
      "outputs": []
    },
    {
      "cell_type": "code",
      "source": [
        "data = [3, 1, 1, 2, 0, 0, 2, 3, 3]\n",
        "data_set = set(data)  # 중복 제거됨\n",
        "print(data_set)"
      ],
      "metadata": {
        "colab": {
          "base_uri": "https://localhost:8080/"
        },
        "id": "xhBRu7H5PxCl",
        "outputId": "1339f863-8706-4713-a05d-8477a1e11f96"
      },
      "execution_count": 125,
      "outputs": [
        {
          "output_type": "stream",
          "name": "stdout",
          "text": [
            "{0, 1, 2, 3}\n"
          ]
        }
      ]
    },
    {
      "cell_type": "code",
      "source": [
        "# 사전의 출력"
      ],
      "metadata": {
        "id": "G9WBvzk3KASg"
      },
      "execution_count": 93,
      "outputs": []
    },
    {
      "cell_type": "code",
      "source": [
        "data = {\"A\" : 1, \"C\" : 10}\n",
        "print(data[\"A\"])  # data[0](X)"
      ],
      "metadata": {
        "colab": {
          "base_uri": "https://localhost:8080/"
        },
        "id": "Fmikg-owP_KX",
        "outputId": "a99612ff-9a0e-4a62-f13d-e511cd2aea34"
      },
      "execution_count": 126,
      "outputs": [
        {
          "output_type": "stream",
          "name": "stdout",
          "text": [
            "1\n"
          ]
        }
      ]
    },
    {
      "cell_type": "code",
      "source": [
        "# 두 공통,한쪽에만 있는 요소 출력하기"
      ],
      "metadata": {
        "id": "SoyEpVCYK0f5"
      },
      "execution_count": 96,
      "outputs": []
    },
    {
      "cell_type": "code",
      "source": [
        "data1 = {1, 2, 5, 10}\n",
        "data2 = {1, 2, 3, 6}\n",
        "\n",
        "print(data1.intersection(data2))  # 교집합 출력\n",
        "print(data1.union(data2))  # 합집합 출력\n",
        "print(data1 - data2)  # 차집합 출력\n",
        "print(data2 - data1)  # 차집합 출력"
      ],
      "metadata": {
        "colab": {
          "base_uri": "https://localhost:8080/"
        },
        "id": "P9EseAutQngh",
        "outputId": "f9b3ac81-f3f0-4b94-efe5-53366adeac2a"
      },
      "execution_count": 130,
      "outputs": [
        {
          "output_type": "stream",
          "name": "stdout",
          "text": [
            "{1, 2}\n",
            "{1, 2, 3, 5, 6, 10}\n",
            "{10, 5}\n",
            "{3, 6}\n"
          ]
        }
      ]
    },
    {
      "cell_type": "code",
      "source": [
        "# class"
      ],
      "metadata": {
        "id": "M69Tnh0XQyYw"
      },
      "execution_count": 131,
      "outputs": []
    },
    {
      "cell_type": "code",
      "source": [
        "data = [1,2,3]\n",
        "print(data)\n",
        "print(type(data))\n",
        "\n",
        "## data 변수의 class = list\n",
        "## class = 틀, object = 틀로 만들어진 결과물"
      ],
      "metadata": {
        "colab": {
          "base_uri": "https://localhost:8080/"
        },
        "id": "g_TpltMhRQv3",
        "outputId": "5ca84276-9747-4686-f39e-5160effffe55"
      },
      "execution_count": 133,
      "outputs": [
        {
          "output_type": "stream",
          "name": "stdout",
          "text": [
            "[1, 2, 3]\n",
            "<class 'list'>\n"
          ]
        }
      ]
    },
    {
      "cell_type": "code",
      "source": [
        "class Student:\n",
        "\n",
        "  def __init__(self):\n",
        "    self.name= \"\"\n",
        "    self.major=\"\"\n",
        "\n",
        "  def __str__(self):\n",
        "    return f\"{self.name}, {self.major}.\"\n",
        "\n",
        "  def __add__(self, other):\n",
        "    return self.name + \".\" + other.name\n",
        "\n",
        "  def __len__(self):\n",
        "    return len(self.name)\n",
        "\n",
        "  def study(self, subject):\n",
        "    print(f\"{self.name} studies {subject}\")\n",
        "\n",
        "  def walk(self, dest):\n",
        "    return f\"{self.name} goes to {dest}.\"\n",
        "\n",
        "\n",
        "\n",
        "student1 = Student()\n",
        "print(type(student1))\n",
        "print(dir(student1))  # 개체가 할 수 있는 모든 method와 속성\n",
        "\n",
        "student1.name = \"ken\"\n",
        "student1.major = \"bioinformatics\"\n",
        "student1.study(\"bio\")\n",
        "res = student1.walk(\"library\")\n",
        "print(res)\n",
        "\n",
        "print(student1.name)\n",
        "\n",
        "print(student1)\n",
        "\n",
        "\n",
        "student2 = Student()\n",
        "student2.name = \"jame\"\n",
        "print(student2)\n",
        "\n",
        "\n",
        "print(student1 + student2)  # __add__ 를 선언한 결과\n",
        "\n",
        "print(len(student1))  # __len_ 을 선언한 결과"
      ],
      "metadata": {
        "colab": {
          "base_uri": "https://localhost:8080/"
        },
        "id": "aqHcTvLVRU-S",
        "outputId": "69e729e6-82c2-48c7-afc4-c9266c3cdba5"
      },
      "execution_count": 153,
      "outputs": [
        {
          "output_type": "stream",
          "name": "stdout",
          "text": [
            "<class '__main__.Student'>\n",
            "['__add__', '__class__', '__delattr__', '__dict__', '__dir__', '__doc__', '__eq__', '__format__', '__ge__', '__getattribute__', '__gt__', '__hash__', '__init__', '__init_subclass__', '__le__', '__len__', '__lt__', '__module__', '__ne__', '__new__', '__reduce__', '__reduce_ex__', '__repr__', '__setattr__', '__sizeof__', '__str__', '__subclasshook__', '__weakref__', 'major', 'name', 'study', 'walk']\n",
            "ken studies bio\n",
            "ken goes to library.\n",
            "ken\n",
            "ken, bioinformatics.\n",
            "jame, .\n",
            "ken.jame\n",
            "3\n"
          ]
        }
      ]
    },
    {
      "cell_type": "code",
      "source": [],
      "metadata": {
        "id": "AkPAZj5dSS_C"
      },
      "execution_count": null,
      "outputs": []
    }
  ]
}