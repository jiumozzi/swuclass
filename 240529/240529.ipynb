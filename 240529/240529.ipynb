{
 "cells": [
  {
   "cell_type": "markdown",
   "metadata": {},
   "source": [
    "Pytest 설치 및 작동 확인"
   ]
  },
  {
   "cell_type": "code",
   "execution_count": 1,
   "metadata": {},
   "outputs": [
    {
     "name": "stdout",
     "output_type": "stream",
     "text": [
      "Requirement already satisfied: pytest in c:\\users\\ssess\\anaconda3\\lib\\site-packages (7.4.0)\n",
      "Requirement already satisfied: iniconfig in c:\\users\\ssess\\anaconda3\\lib\\site-packages (from pytest) (1.1.1)\n",
      "Requirement already satisfied: packaging in c:\\users\\ssess\\anaconda3\\lib\\site-packages (from pytest) (23.1)\n",
      "Requirement already satisfied: pluggy<2.0,>=0.12 in c:\\users\\ssess\\anaconda3\\lib\\site-packages (from pytest) (1.0.0)\n",
      "Requirement already satisfied: colorama in c:\\users\\ssess\\anaconda3\\lib\\site-packages (from pytest) (0.4.6)\n",
      "Note: you may need to restart the kernel to use updated packages.\n"
     ]
    }
   ],
   "source": [
    "pip install pytest"
   ]
  },
  {
   "cell_type": "markdown",
   "metadata": {},
   "source": [
    "> pytest test_function.p 또는 python -m pytest test_function.py 으로 작동 확인\n",
    "\n",
    "> import pytest  \n",
    "> def test_function():  \n",
    ">    assert (1, 2, 3) == (1, 2, 3)  \n",
    ">> 1 passed \n",
    "\n",
    "> import pytest  \n",
    "> def test_function1():  \n",
    ">    assert (1, 2, 3) == (1, 2, 3)  # 1 passed  \n",
    "> def test_function2():  \n",
    ">    assert (1, 2, 3) == (1, 4, 3)  # 1 failed  \n",
    ">> 1 failed, 1 passed  \n"
   ]
  },
  {
   "cell_type": "markdown",
   "metadata": {},
   "source": [
    "테스트 코드 작성 방법"
   ]
  },
  {
   "cell_type": "markdown",
   "metadata": {},
   "source": [
    "> 1. 본 코드와 테스트 코드 파일을 생성.\n",
    "> 2. 본 코드의 함수 이름과 들어가는 인자 정도만 작성함.\n",
    "> 3. 테스트 코드에서는 본 코드를 import 함. (from script import 함수이름)  \n",
    "*script이름은 문자로 시작해야 실행 가능*  \n",
    "> 4. 테스트 코드의 함수는 본 코드의 테스트할 함수의 이름을 따서 지음.\n",
    "> 5. 테스트 할 내용을 작성 후 test fail이 되는지 확인.\n",
    "> 6. 본 코드의 내용을 구현.\n",
    "> 7. 테스트 수행 후 test pass 확인.\n",
    "> 8. 6-7번 과정 반복.\n",
    "> 9. code refactoring.\n",
    "> 10. 테스트 수행 후 test pass 확인.\n",
    "> 11. 9-10번 과정 반복.\n"
   ]
  },
  {
   "cell_type": "markdown",
   "metadata": {},
   "source": [
    "parameterize 개념  \n",
    "> 여러 개의 항목을 테스트 하는 경우  \n",
    "> 함수를 여러 개 짜지 않고 하나의 함수만으로 실행 가능하게 함  \n",
    "> python decorator 사용"
   ]
  },
  {
   "cell_type": "markdown",
   "metadata": {},
   "source": [
    ">@pytest.mark.parametrize(  \n",
    ">    \"arg1, arg2, expected\",  \n",
    ">    [  \n",
    ">        (a1, a2, exp12),  \n",
    ">        (a3, a4, exp34),  \n",
    ">    ],  \n",
    ">)  \n"
   ]
  },
  {
   "cell_type": "code",
   "execution_count": 2,
   "metadata": {},
   "outputs": [],
   "source": []
  }
 ],
 "metadata": {
  "kernelspec": {
   "display_name": "base",
   "language": "python",
   "name": "python3"
  },
  "language_info": {
   "codemirror_mode": {
    "name": "ipython",
    "version": 3
   },
   "file_extension": ".py",
   "mimetype": "text/x-python",
   "name": "python",
   "nbconvert_exporter": "python",
   "pygments_lexer": "ipython3",
   "version": "3.11.7"
  }
 },
 "nbformat": 4,
 "nbformat_minor": 2
}
